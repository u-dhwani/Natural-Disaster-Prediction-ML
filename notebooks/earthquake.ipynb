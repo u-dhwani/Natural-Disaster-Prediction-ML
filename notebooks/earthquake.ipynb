{
 "cells": [
  {
   "cell_type": "code",
   "execution_count": 1,
   "metadata": {},
   "outputs": [],
   "source": [
    "%reload_ext autoreload\n",
    "%autoreload 2\n",
    "%matplotlib inline\n",
    "\n",
    "import sys\n",
    "sys.path.append('..')"
   ]
  },
  {
   "cell_type": "code",
   "execution_count": 4,
   "metadata": {},
   "outputs": [],
   "source": [
    "from earthquake import utils, config\n",
    "\n",
    "# load training set\n",
    "data = utils.read_csv(config.path_to_train)\n",
    "# create list of features\n",
    "features = [column for column in data.columns if column not in ['target', 'seg_id']]"
   ]
  },
  {
   "cell_type": "code",
   "execution_count": 5,
   "metadata": {},
   "outputs": [],
   "source": [
    "# display importance\n",
    "best_features = utils.feature_importance(data[features], data['target'], n_best=15, n_jobs=8)"
   ]
  },
  {
   "cell_type": "code",
   "execution_count": 6,
   "metadata": {},
   "outputs": [
    {
     "name": "stdout",
     "output_type": "stream",
     "text": [
      "Unnamed: 0\n",
      "percentile_roll_std_20_window_1000\n",
      "percentile_roll_std_10_window_100\n",
      "percentile_roll_std_20_window_10\n",
      "percentile_roll_std_50_window_500\n",
      "num_peaks_10\n",
      "percentile_roll_std_10_window_10\n",
      "c3_100\n",
      "percentile_roll_std_40_window_10000\n",
      "percentile_roll_std_60_window_10\n",
      "c3_10000\n",
      "percentile_roll_mean_1_window_500\n",
      "ffti_percentile_roll_std_60_window_10\n",
      "fftr_percentile_roll_std_75_window_500\n",
      "spkt_welch_density_5\n"
     ]
    }
   ],
   "source": [
    "for x in best_features:\n",
    "    print(x)"
   ]
  },
  {
   "cell_type": "code",
   "execution_count": 9,
   "metadata": {},
   "outputs": [
    {
     "name": "stdout",
     "output_type": "stream",
     "text": [
      "folds: [2.423 5.186 2.83  1.623 2.451]\n",
      "total: 2.903\n"
     ]
    }
   ],
   "source": [
    "import numpy as np\n",
    "from sklearn.model_selection import cross_val_score\n",
    "from catboost import CatBoostRegressor\n",
    "\n",
    "# set output float precision \n",
    "np.set_printoptions(precision=3)\n",
    "# init model\n",
    "model = CatBoostRegressor(random_seed=0, verbose=False)\n",
    "# calculate mae on folds\n",
    "mae = cross_val_score(model, data[best_features], data['target'], \n",
    "    cv=5, scoring='neg_mean_absolute_error', n_jobs=8)\n",
    "# print the results\n",
    "print('folds: {}'.format(abs(mae)))\n",
    "print('total: {:.3f}'.format(np.mean(abs(mae))))"
   ]
  },
  {
   "cell_type": "code",
   "execution_count": 10,
   "metadata": {},
   "outputs": [
    {
     "name": "stdout",
     "output_type": "stream",
     "text": [
      "folds: [2.423 5.186 2.83  1.623 2.451]\n",
      "total: 2.903\n"
     ]
    }
   ],
   "source": [
    "ga_features = []\n",
    "\n",
    "for x in best_features:\n",
    "    ga_features.append(x)\n",
    "\n",
    "mae = cross_val_score(model, data[ga_features], data['target'], \n",
    "    cv=5, scoring='neg_mean_absolute_error', n_jobs=8)\n",
    "\n",
    "print('folds: {}'.format(abs(mae)))\n",
    "print('total: {:.3f}'.format(np.mean(abs(mae))))"
   ]
  }
 ],
 "metadata": {
  "kernelspec": {
   "display_name": "Python 3",
   "language": "python",
   "name": "python3"
  },
  "language_info": {
   "codemirror_mode": {
    "name": "ipython",
    "version": 3
   },
   "file_extension": ".py",
   "mimetype": "text/x-python",
   "name": "python",
   "nbconvert_exporter": "python",
   "pygments_lexer": "ipython3",
   "version": "3.10.7"
  }
 },
 "nbformat": 4,
 "nbformat_minor": 2
}
